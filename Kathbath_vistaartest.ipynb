{
 "cells": [
  {
   "cell_type": "code",
   "execution_count": 2,
   "metadata": {},
   "outputs": [
    {
     "ename": "ModuleNotFoundError",
     "evalue": "No module named 'evaluate'",
     "output_type": "error",
     "traceback": [
      "\u001b[1;31m---------------------------------------------------------------------------\u001b[0m",
      "\u001b[1;31mModuleNotFoundError\u001b[0m                       Traceback (most recent call last)",
      "Cell \u001b[1;32mIn[2], line 4\u001b[0m\n\u001b[0;32m      2\u001b[0m \u001b[38;5;28;01mfrom\u001b[39;00m \u001b[38;5;21;01mtransformers\u001b[39;00m \u001b[38;5;28;01mimport\u001b[39;00m pipeline\n\u001b[0;32m      3\u001b[0m \u001b[38;5;28;01mfrom\u001b[39;00m \u001b[38;5;21;01mdatasets\u001b[39;00m \u001b[38;5;28;01mimport\u001b[39;00m load_dataset, Audio\n\u001b[1;32m----> 4\u001b[0m \u001b[38;5;28;01mimport\u001b[39;00m \u001b[38;5;21;01mevaluate\u001b[39;00m\n\u001b[0;32m      5\u001b[0m \u001b[38;5;28;01mfrom\u001b[39;00m \u001b[38;5;21;01mjoblib\u001b[39;00m \u001b[38;5;28;01mimport\u001b[39;00m Parallel, delayed\n\u001b[0;32m      6\u001b[0m \u001b[38;5;28;01mfrom\u001b[39;00m \u001b[38;5;21;01mtqdm\u001b[39;00m \u001b[38;5;28;01mimport\u001b[39;00m tqdm\n",
      "\u001b[1;31mModuleNotFoundError\u001b[0m: No module named 'evaluate'"
     ]
    }
   ],
   "source": [
    "import argparse\n",
    "from transformers import pipeline\n",
    "from datasets import load_dataset, Audio\n",
    "import evaluate\n",
    "from joblib import Parallel, delayed\n",
    "from tqdm import tqdm\n",
    "import json\n",
    "import librosa\n",
    "import pandas as pd\n",
    "from torch.utils.data import Dataset\n",
    "from indicnlp.normalize.indic_normalize import IndicNormalizerFactory\n",
    "import pyarrow as pa\n",
    "import soundfile as sf\n",
    "import jiwer\n",
    "import os\n",
    "import string\n",
    "import re\n",
    "import time\n",
    "import torch\n",
    "\n",
    "from transformers import (\n",
    "    AutoConfig,\n",
    "    AutoFeatureExtractor,\n",
    "    AutoModelForSpeechSeq2Seq,\n",
    "    AutoProcessor,\n",
    "    AutoTokenizer,\n",
    "    HfArgumentParser,\n",
    "    Seq2SeqTrainer,\n",
    "    Seq2SeqTrainingArguments,\n",
    "    TrainerCallback,\n",
    "    set_seed,\n",
    ")"
   ]
  },
  {
   "cell_type": "code",
   "execution_count": 3,
   "metadata": {},
   "outputs": [
    {
     "ename": "NameError",
     "evalue": "name 'Dataset' is not defined",
     "output_type": "error",
     "traceback": [
      "\u001b[1;31m---------------------------------------------------------------------------\u001b[0m",
      "\u001b[1;31mNameError\u001b[0m                                 Traceback (most recent call last)",
      "Cell \u001b[1;32mIn[3], line 27\u001b[0m\n\u001b[0;32m     24\u001b[0m     normalized_sentence \u001b[38;5;241m=\u001b[39m normalizer\u001b[38;5;241m.\u001b[39mnormalize(sentence)\n\u001b[0;32m     25\u001b[0m     \u001b[38;5;28;01mreturn\u001b[39;00m normalized_sentence\n\u001b[1;32m---> 27\u001b[0m \u001b[38;5;28;01mclass\u001b[39;00m \u001b[38;5;21;01meval_dataset\u001b[39;00m(Dataset):\n\u001b[0;32m     29\u001b[0m     \u001b[38;5;28;01mdef\u001b[39;00m \u001b[38;5;21m__init__\u001b[39m(\u001b[38;5;28mself\u001b[39m):\n\u001b[0;32m     30\u001b[0m         \u001b[38;5;28mself\u001b[39m\u001b[38;5;241m.\u001b[39maudios \u001b[38;5;241m=\u001b[39m []\n",
      "\u001b[1;31mNameError\u001b[0m: name 'Dataset' is not defined"
     ]
    }
   ],
   "source": [
    "lang_to_code = {\n",
    "    'hindi': 'hi',\n",
    "    'sanskrit': 'sa',\n",
    "    'bengali': 'bn',\n",
    "    'tamil': 'ta',\n",
    "    'telugu': 'te',\n",
    "    'gujarati': 'gu',\n",
    "    'kannada': 'kn',\n",
    "    'malayalam': 'ml',\n",
    "    'marathi': 'mr',\n",
    "    'odia': 'or',\n",
    "    'punjabi': 'pa',\n",
    "    'urdu': 'ur',\n",
    "}\n",
    "\n",
    "def normalize_sentence(sentence, lang_code):\n",
    "    '''\n",
    "    Perform NFC -> NFD normalization for a sentence and a given language\n",
    "    sentence: string\n",
    "    lang_code: language code in ISO format\n",
    "    '''\n",
    "    factory=IndicNormalizerFactory()\n",
    "    normalizer=factory.get_normalizer(lang_code)\n",
    "    normalized_sentence = normalizer.normalize(sentence)\n",
    "    return normalized_sentence\n",
    "\n",
    "class eval_dataset(Dataset):\n",
    "    \n",
    "    def __init__(self):\n",
    "        self.audios = []\n",
    "        self.sents = []\n",
    "        \n",
    "    def __len__(self):\n",
    "        return len(self.audios)\n",
    "\n",
    "    def __getitem__(self, i):\n",
    "        return {\"raw\": self.audios[i]['array'], \"sampling_rate\":self.audios[i]['sampling_rate'], \"reference\":self.sents[i], \n",
    "                \"path\": self.audios[i]['path'], \"duration\": self.audios[i]['duration']}\n",
    "    \n",
    "    def fill_data(self, aud, sent):\n",
    "        self.audios.append(aud)\n",
    "        self.sents.append(sent)\n",
    "\n",
    "def get_data(split):\n",
    "    js_data = json.loads(split)\n",
    "    aud = {}\n",
    "    aud['path'] = js_data['audio_filepath'].replace('/nlsasfs/home/ai4bharat/ai4bharat-pr/speechteam/asr_datasets', '/workspace/ai4bharat-pr/speechteam/ai4bp_upload/vistaar')\n",
    "    y, sr = sf.read(aud['path'])\n",
    "    aud['duration'] = js_data['duration']\n",
    "    aud['array'] = y\n",
    "    aud['sampling_rate'] = sr\n",
    "    \n",
    "    return (aud, js_data['text'])"
   ]
  },
  {
   "cell_type": "code",
   "execution_count": 6,
   "metadata": {},
   "outputs": [],
   "source": [
    "# the value for dir_path needs to be your drive folder\n",
    "dir_path = \"D:\\IITBombay_whisper\"\n",
    "\n",
    "lang_code = 'hi' # hi for hindi\n",
    "\n",
    "model_path = \"D:\\IITBombay_whisper\\kathbath\"\n",
    "\n",
    "manifest_path = \"D:\\IITBombay_whisper\\kathbath\\hindi\\test\\nemo_manifest\\test_unknown.jsonl\" # this is the manifest file from kathbath/hindi/test/nemo_manifest folder\n",
    "\n",
    "batch_size = 16 # depends on the size of the TPU, 16 is probably safe"
   ]
  },
  {
   "cell_type": "code",
   "execution_count": 7,
   "metadata": {},
   "outputs": [
    {
     "ename": "OSError",
     "evalue": "[Errno 22] Invalid argument: 'D:\\\\IITBombay_whisper\\\\kathbath\\\\hindi\\test\\nemo_manifest\\test_unknown.jsonl'",
     "output_type": "error",
     "traceback": [
      "\u001b[1;31m---------------------------------------------------------------------------\u001b[0m",
      "\u001b[1;31mOSError\u001b[0m                                   Traceback (most recent call last)",
      "Cell \u001b[1;32mIn[7], line 1\u001b[0m\n\u001b[1;32m----> 1\u001b[0m \u001b[38;5;28;01mwith\u001b[39;00m \u001b[38;5;28mopen\u001b[39m(manifest_path, \u001b[38;5;124m'\u001b[39m\u001b[38;5;124mr\u001b[39m\u001b[38;5;124m'\u001b[39m) \u001b[38;5;28;01mas\u001b[39;00m f:\n\u001b[0;32m      2\u001b[0m     data \u001b[38;5;241m=\u001b[39m f\u001b[38;5;241m.\u001b[39mread()\n\u001b[0;32m      3\u001b[0m     splits \u001b[38;5;241m=\u001b[39m data\u001b[38;5;241m.\u001b[39msplit(\u001b[38;5;124m'\u001b[39m\u001b[38;5;130;01m\\n\u001b[39;00m\u001b[38;5;124m'\u001b[39m)\n",
      "File \u001b[1;32m~\\anaconda3\\Lib\\site-packages\\IPython\\core\\interactiveshell.py:286\u001b[0m, in \u001b[0;36m_modified_open\u001b[1;34m(file, *args, **kwargs)\u001b[0m\n\u001b[0;32m    279\u001b[0m \u001b[38;5;28;01mif\u001b[39;00m file \u001b[38;5;129;01min\u001b[39;00m {\u001b[38;5;241m0\u001b[39m, \u001b[38;5;241m1\u001b[39m, \u001b[38;5;241m2\u001b[39m}:\n\u001b[0;32m    280\u001b[0m     \u001b[38;5;28;01mraise\u001b[39;00m \u001b[38;5;167;01mValueError\u001b[39;00m(\n\u001b[0;32m    281\u001b[0m         \u001b[38;5;124mf\u001b[39m\u001b[38;5;124m\"\u001b[39m\u001b[38;5;124mIPython won\u001b[39m\u001b[38;5;124m'\u001b[39m\u001b[38;5;124mt let you open fd=\u001b[39m\u001b[38;5;132;01m{\u001b[39;00mfile\u001b[38;5;132;01m}\u001b[39;00m\u001b[38;5;124m by default \u001b[39m\u001b[38;5;124m\"\u001b[39m\n\u001b[0;32m    282\u001b[0m         \u001b[38;5;124m\"\u001b[39m\u001b[38;5;124mas it is likely to crash IPython. If you know what you are doing, \u001b[39m\u001b[38;5;124m\"\u001b[39m\n\u001b[0;32m    283\u001b[0m         \u001b[38;5;124m\"\u001b[39m\u001b[38;5;124myou can use builtins\u001b[39m\u001b[38;5;124m'\u001b[39m\u001b[38;5;124m open.\u001b[39m\u001b[38;5;124m\"\u001b[39m\n\u001b[0;32m    284\u001b[0m     )\n\u001b[1;32m--> 286\u001b[0m \u001b[38;5;28;01mreturn\u001b[39;00m io_open(file, \u001b[38;5;241m*\u001b[39margs, \u001b[38;5;241m*\u001b[39m\u001b[38;5;241m*\u001b[39mkwargs)\n",
      "\u001b[1;31mOSError\u001b[0m: [Errno 22] Invalid argument: 'D:\\\\IITBombay_whisper\\\\kathbath\\\\hindi\\test\\nemo_manifest\\test_unknown.jsonl'"
     ]
    }
   ],
   "source": [
    "with open(manifest_path, 'r') as f:\n",
    "    data = f.read()\n",
    "    splits = data.split('\\n')\n",
    "    if splits[-1] == '':\n",
    "        splits = splits[:-1]\n",
    "whisper_asr = pipeline(\n",
    "        \"automatic-speech-recognition\", model=model_path, device='tpu', # tpu because colab has a Tensor Processing Unit\n",
    "    )\n",
    "\n"
   ]
  },
  {
   "cell_type": "code",
   "execution_count": null,
   "metadata": {},
   "outputs": [],
   "source": [
    "da = Parallel(n_jobs=128)(delayed(get_data)(split) for split in tqdm(splits))\n",
    "\n",
    "dataset = eval_dataset()\n",
    "for d in da:\n",
    "    dataset.fill_data(d[0], d[1])"
   ]
  },
  {
   "cell_type": "code",
   "execution_count": null,
   "metadata": {},
   "outputs": [],
   "source": [
    "whisper_asr.model.generation_config.language = f\"<|{lang_code}|>\"\n",
    "whisper_asr.model.generation_config.task = 'transcribe'"
   ]
  },
  {
   "cell_type": "code",
   "execution_count": null,
   "metadata": {},
   "outputs": [],
   "source": [
    "\n",
    "hypothesis = []\n",
    "ground_truth = []\n",
    "\n",
    "os.makedirs(dir_path + '/' + 'predictions', exist_ok=True)\n",
    "\n",
    "out_name = 'predictions.json'\n",
    "\n",
    "open(dir_path + '/' + 'predictions/' + out_name, 'w').close()\n",
    "\n",
    "st = time.time()\n",
    "\n",
    "for out in tqdm(whisper_asr(dataset, batch_size=batch_size), total=len(dataset)):\n",
    "    \n",
    "    hyp = out['text']\n",
    "    ref = out['reference'][0]\n",
    "    hyp = hyp.translate(str.maketrans('', '', string.punctuation+\"।۔'-॥\"))\n",
    "    ref = ref.translate(str.maketrans('', '', string.punctuation+\"।۔'-॥\"))\n",
    "    if lang_code[:2] != 'ur':\n",
    "        hyp = normalize_sentence(hyp, lang_code[:2])\n",
    "        ref = normalize_sentence(ref, lang_code[:2])\n",
    "    hyp = re.sub(' +', ' ', hyp)\n",
    "    ref = re.sub(' +', ' ', ref)\n",
    "    \n",
    "    if ref == '':\n",
    "        ref = '<empty>'\n",
    "    hypothesis.append(hyp)\n",
    "    ground_truth.append(ref)\n",
    "    res = {\n",
    "        \"audio_filepath\":out['path'][0],\n",
    "        \"duration\":out['duration'][0],\n",
    "        \"text\":ref,\n",
    "        \"pred_text\":hyp\n",
    "    }\n",
    "    with open(dir_path + '/' + 'predictions/' + out_name, 'a') as f:\n",
    "        json.dump(res, f)\n",
    "        f.write('\\n')\n",
    "\n",
    "et = time.time()\n",
    "    \n",
    "data = {}\n",
    "data['model'] = model_path\n",
    "data['dataset'] = \"kathbath_hindi\"\n",
    "data['language'] = lang_code\n",
    "data['cer'] = jiwer.cer(ground_truth, hypothesis)\n",
    "data['time'] = (et-st)/60\n",
    "data['batch_size'] = batch_size\n",
    "measures = jiwer.compute_measures(ground_truth, hypothesis)\n",
    "data['wer'] = measures['wer']\n",
    "\n",
    "print(data)\n",
    "\n",
    "with open(dir_path + '/' + 'results.csv', 'a') as results_fp:\n",
    "    print(','.join([str(v) for v in data.values()]), file=results_fp)"
   ]
  }
 ],
 "metadata": {
  "kernelspec": {
   "display_name": "Python 3 (ipykernel)",
   "language": "python",
   "name": "python3"
  },
  "language_info": {
   "codemirror_mode": {
    "name": "ipython",
    "version": 3
   },
   "file_extension": ".py",
   "mimetype": "text/x-python",
   "name": "python",
   "nbconvert_exporter": "python",
   "pygments_lexer": "ipython3",
   "version": "3.11.5"
  }
 },
 "nbformat": 4,
 "nbformat_minor": 2
}
